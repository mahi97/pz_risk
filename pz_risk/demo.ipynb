{
 "cells": [
  {
   "cell_type": "code",
   "execution_count": 1,
   "metadata": {
    "pycharm": {
     "name": "#%%\n"
    }
   },
   "outputs": [
    {
     "ename": "NameError",
     "evalue": "name 'loss1' is not defined",
     "output_type": "error",
     "traceback": [
      "\u001b[0;31m---------------------------------------------------------------------------\u001b[0m",
      "\u001b[0;31mNameError\u001b[0m                                 Traceback (most recent call last)",
      "\u001b[0;32m/tmp/ipykernel_17260/627672868.py\u001b[0m in \u001b[0;36m<module>\u001b[0;34m\u001b[0m\n\u001b[1;32m    166\u001b[0m     \u001b[0;32mfor\u001b[0m \u001b[0mj\u001b[0m \u001b[0;32min\u001b[0m \u001b[0mrange\u001b[0m\u001b[0;34m(\u001b[0m\u001b[0;36m1\u001b[0m\u001b[0;34m,\u001b[0m \u001b[0;36m100\u001b[0m\u001b[0;34m)\u001b[0m\u001b[0;34m:\u001b[0m\u001b[0;34m\u001b[0m\u001b[0;34m\u001b[0m\u001b[0m\n\u001b[1;32m    167\u001b[0m         \u001b[0;32mfor\u001b[0m \u001b[0mr\u001b[0m \u001b[0;32min\u001b[0m \u001b[0mrange\u001b[0m\u001b[0;34m(\u001b[0m\u001b[0;36m0\u001b[0m\u001b[0;34m,\u001b[0m \u001b[0mi\u001b[0m\u001b[0;34m)\u001b[0m\u001b[0;34m:\u001b[0m\u001b[0;34m\u001b[0m\u001b[0;34m\u001b[0m\u001b[0m\n\u001b[0;32m--> 168\u001b[0;31m             \u001b[0mget_win_chance2\u001b[0m\u001b[0;34m(\u001b[0m\u001b[0mi\u001b[0m\u001b[0;34m,\u001b[0m \u001b[0mj\u001b[0m\u001b[0;34m,\u001b[0m \u001b[0mr\u001b[0m\u001b[0;34m)\u001b[0m\u001b[0;34m\u001b[0m\u001b[0;34m\u001b[0m\u001b[0m\n\u001b[0m\u001b[1;32m    169\u001b[0m \u001b[0;34m\u001b[0m\u001b[0m\n\u001b[1;32m    170\u001b[0m \u001b[0mprint\u001b[0m\u001b[0;34m(\u001b[0m\u001b[0mlen\u001b[0m\u001b[0;34m(\u001b[0m\u001b[0md2\u001b[0m\u001b[0;34m)\u001b[0m\u001b[0;34m)\u001b[0m\u001b[0;34m\u001b[0m\u001b[0;34m\u001b[0m\u001b[0m\n",
      "\u001b[0;32m/tmp/ipykernel_17260/627672868.py\u001b[0m in \u001b[0;36mget_win_chance2\u001b[0;34m(attack_unit, defense_unit, left)\u001b[0m\n\u001b[1;32m    160\u001b[0m                 \u001b[0mwin_rate\u001b[0m\u001b[0;34m[\u001b[0m\u001b[0;36m2\u001b[0m\u001b[0;34m,\u001b[0m \u001b[0;36m1\u001b[0m\u001b[0;34m,\u001b[0m \u001b[0;36m2\u001b[0m\u001b[0;34m]\u001b[0m \u001b[0;34m*\u001b[0m \u001b[0mget_win_chance2\u001b[0m\u001b[0;34m(\u001b[0m\u001b[0mattack_unit\u001b[0m \u001b[0;34m-\u001b[0m \u001b[0;36m2\u001b[0m\u001b[0;34m,\u001b[0m \u001b[0mdefense_unit\u001b[0m\u001b[0;34m,\u001b[0m \u001b[0mloss1\u001b[0m \u001b[0;34m-\u001b[0m \u001b[0;36m2\u001b[0m\u001b[0;34m,\u001b[0m \u001b[0mloss2\u001b[0m\u001b[0;34m)\u001b[0m\u001b[0;34m\u001b[0m\u001b[0;34m\u001b[0m\u001b[0m\n\u001b[1;32m    161\u001b[0m \u001b[0;31m#     print(attack_unit, defense_unit, loss, c)\u001b[0m\u001b[0;34m\u001b[0m\u001b[0;34m\u001b[0m\u001b[0;34m\u001b[0m\u001b[0m\n\u001b[0;32m--> 162\u001b[0;31m     \u001b[0md2\u001b[0m\u001b[0;34m[\u001b[0m\u001b[0;34m(\u001b[0m\u001b[0mattack_unit\u001b[0m\u001b[0;34m,\u001b[0m \u001b[0mdefense_unit\u001b[0m\u001b[0;34m,\u001b[0m \u001b[0mloss1\u001b[0m\u001b[0;34m,\u001b[0m \u001b[0mloss2\u001b[0m\u001b[0;34m)\u001b[0m\u001b[0;34m]\u001b[0m \u001b[0;34m=\u001b[0m \u001b[0mc\u001b[0m\u001b[0;34m\u001b[0m\u001b[0;34m\u001b[0m\u001b[0m\n\u001b[0m\u001b[1;32m    163\u001b[0m     \u001b[0;32mreturn\u001b[0m \u001b[0mc\u001b[0m\u001b[0;34m\u001b[0m\u001b[0;34m\u001b[0m\u001b[0m\n\u001b[1;32m    164\u001b[0m \u001b[0;34m\u001b[0m\u001b[0m\n",
      "\u001b[0;31mNameError\u001b[0m: name 'loss1' is not defined"
     ]
    }
   ],
   "source": [
    "import math\n",
    "import numpy as np\n",
    "from utils import single_roll\n",
    "\n",
    "\n",
    "# From https://web.stanford.edu/~guertin/risk.notes.html\n",
    "win_rate = np.array([\n",
    "    [[0.417, 0.583, 0.],        # 1 vs 1\n",
    "     [0.255, 0.745, 0.]],       # 1 vs 2\n",
    "    [[0.579, 0.421, 0.],      # 2 vs 1\n",
    "     [0.228, 0.324, 0.448]],    # 2 vs 2\n",
    "    [[0.660, 0.340, 0.],      # 3 vs 1\n",
    "     [0.371, 0.336, 0.293]]   # 3 vs 2\n",
    "])\n",
    "\n",
    "d1 = {}\n",
    "\n",
    "\n",
    "def get_win_chance(attack_unit, defense_unit):\n",
    "    global win_rate, d1\n",
    "\n",
    "    if (attack_unit, defense_unit) in d1:\n",
    "        return d1[(attack_unit, defense_unit)]\n",
    "\n",
    "    if attack_unit == 0:\n",
    "        c = 0.0\n",
    "    elif defense_unit == 0:\n",
    "        c = 1.0\n",
    "    elif attack_unit == 1:\n",
    "        if defense_unit == 1:\n",
    "            c = win_rate[0, 0, 0]\n",
    "        elif defense_unit == 2:\n",
    "            c = win_rate[0, 1, 0]\n",
    "        else:\n",
    "            c = win_rate[0, 1, 0] * get_win_chance(attack_unit, defense_unit - 1)\n",
    "    elif attack_unit == 2:\n",
    "        if defense_unit == 1:\n",
    "            c = win_rate[1, 0, 0] + \\\n",
    "                win_rate[1, 0, 1] * win_rate[0, 0, 0]\n",
    "        elif defense_unit == 2:\n",
    "            c = win_rate[1, 1, 0] + \\\n",
    "                win_rate[1, 1, 1] * win_rate[0, 0, 0]\n",
    "        else:\n",
    "            c = win_rate[1, 1, 0] * get_win_chance(attack_unit, defense_unit - 2) + \\\n",
    "                win_rate[1, 1, 1] * get_win_chance(attack_unit - 1, defense_unit - 1)\n",
    "    elif attack_unit == 3:\n",
    "        if defense_unit == 1:\n",
    "            c = win_rate[2, 0, 0] + \\\n",
    "                win_rate[2, 0, 1] * win_rate[1, 0, 0] + \\\n",
    "                win_rate[2, 0, 1] * win_rate[1, 0, 1] * win_rate[0, 0, 0]\n",
    "        else:\n",
    "            c = win_rate[2, 1, 0] + \\\n",
    "                win_rate[2, 1, 1] * win_rate[1, 0, 0] + \\\n",
    "                win_rate[2, 1, 1] * win_rate[1, 0, 1] * win_rate[0, 0, 0] + \\\n",
    "                win_rate[2, 1, 2] * win_rate[0, 1, 0]\n",
    "    else:\n",
    "        if defense_unit == 1:\n",
    "            c = win_rate[2, 0, 0] + \\\n",
    "                win_rate[2, 0, 1] * get_win_chance(attack_unit - 1, defense_unit)\n",
    "        else:\n",
    "            c = win_rate[2, 1, 0] * get_win_chance(attack_unit, defense_unit - 2) + \\\n",
    "                win_rate[2, 1, 1] * get_win_chance(attack_unit - 1, defense_unit - 1) + \\\n",
    "                win_rate[2, 1, 2] * get_win_chance(attack_unit - 2, defense_unit)\n",
    "    d1[(attack_unit, defense_unit)] = c\n",
    "    return c\n",
    "\n",
    "d2 = {}\n",
    "def get_win_chance2(attack_unit, defense_unit, left):\n",
    "    global win_rate, d2\n",
    "\n",
    "    if (attack_unit, defense_unit, left) in d2:\n",
    "        return d2[(attack_unit, defense_unit, left)]\n",
    "\n",
    "    if left < -defense_unit or left > attack_unit:\n",
    "        c = 0.0\n",
    "    elif attack_unit == 0:\n",
    "        if left <= 0:\n",
    "            c = 1.0\n",
    "        else:\n",
    "            c = 0.0\n",
    "    elif defense_unit == 0:\n",
    "        if left > 0:\n",
    "            c = 1.0\n",
    "        else:\n",
    "            c = 0.0\n",
    "    elif attack_unit == 1:\n",
    "        if defense_unit == 1:\n",
    "            if left == attack_unit:\n",
    "                c = win_rate[0, 0, 0]\n",
    "            else:\n",
    "                c = win_rate[0, 0, 1]\n",
    "        elif defense_unit == 2:\n",
    "            if left == attack_unit:\n",
    "                c = win_rate[0, 1, 0] * win_rate[0, 0, 0]\n",
    "            elif left == 0:\n",
    "                c = win_rate[0, 1, 0] * win_rate[0, 0, 1]\n",
    "            else:\n",
    "                c = win_rate[0, 1, 1]\n",
    "        else:\n",
    "            if left == attack_unit:\n",
    "                c = win_rate[0, 1, 0] * get_win_chance2(attack_unit, defense_unit - 1, left)\n",
    "            elif left == -defense_unit:\n",
    "                c = win_rate[0, 1, 1]\n",
    "            else:\n",
    "                c = win_rate[0, 1, 0] * get_win_chance2(attack_unit, defense_unit - 1, left)\n",
    "    elif attack_unit == 2:\n",
    "        if defense_unit == 1:\n",
    "            if loss1 == 0:\n",
    "                c = win_rate[1, 0, 0]\n",
    "            elif loss1 == 1:\n",
    "                c = win_rate[1, 0, 1] * win_rate[0, 0, 0]\n",
    "            else:\n",
    "                c = win_rate[1, 0, 2]\n",
    "        elif defense_unit == 2:\n",
    "            if loss1 == 0:\n",
    "                c = win_rate[1, 1, 0]\n",
    "            elif loss1 == 1:\n",
    "                c = win_rate[1, 1, 1] * win_rate[0, 0, 0]\n",
    "            else:\n",
    "                c = win_rate[1, 1, 1] * win_rate[0, 1, 1]\n",
    "        else:\n",
    "            if loss1 == 0:\n",
    "                c = win_rate[1, 1, 0] * get_win_chance2(attack_unit, defense_unit - 2, loss1, loss2 - 2)\n",
    "            elif loss1 == 1:\n",
    "                c = win_rate[1, 1, 0] * get_win_chance2(attack_unit, defense_unit - 2, loss1, loss2 - 2) + \\\n",
    "                    win_rate[1, 1, 1] * get_win_chance2(attack_unit - 1, defense_unit - 1, loss1 - 1, loss2 - 1)\n",
    "            else:\n",
    "                c = win_rate[1, 1, 2] + \\\n",
    "                    win_rate[1, 1, 0] * get_win_chance2(attack_unit, defense_unit - 2, loss1, loss2 - 2) + \\\n",
    "                    win_rate[1, 1, 1] * get_win_chance2(attack_unit - 1, defense_unit - 1, loss1 - 1, loss2 - 1)\n",
    "    elif attack_unit == 3:\n",
    "        if defense_unit == 1:\n",
    "            if loss1 == 0:\n",
    "                c = win_rate[2, 0, 0]\n",
    "            elif loss1 == 1:\n",
    "                c = win_rate[2, 0, 1] * win_rate[1, 0, 0]\n",
    "            elif loss1 == 2:\n",
    "                c = win_rate[2, 0, 1] * win_rate[1, 0, 1] * win_rate[0, 0, 0]\n",
    "            else:\n",
    "                c = win_rate[2, 0, 1] * win_rate[1, 0, 1] * win_rate[0, 0, 1]\n",
    "        else:\n",
    "            if loss1 == 0:\n",
    "                c = win_rate[2, 1, 0] * get_win_chance2(attack_unit, defense_unit - 2, loss1, loss2 - 2)\n",
    "            elif loss1 == 1:\n",
    "                c = win_rate[2, 1, 0] * get_win_chance2(attack_unit, defense_unit - 2, loss1, loss2 - 2) + \\\n",
    "                    win_rate[2, 1, 1] * get_win_chance2(attack_unit - 1, defense_unit - 1, loss1 - 1, loss2 - 1)\n",
    "            else:\n",
    "                c = win_rate[2, 1, 2] * get_win_chance2(attack_unit - 2, defense_unit, loss1 - 2, loss2) + \\\n",
    "                    win_rate[2, 1, 1] * get_win_chance2(attack_unit - 1, defense_unit - 1, loss1 - 1, loss2 - 1) + \\\n",
    "                    win_rate[2, 1, 0] * get_win_chance2(attack_unit, defense_unit - 2, loss1, loss2 - 2)\n",
    "    else:\n",
    "        if defense_unit == 1:\n",
    "            if loss1 == 0:\n",
    "                c = win_rate[2, 0, 0]\n",
    "            else:\n",
    "                c = win_rate[2, 0, 1] * get_win_chance2(attack_unit - 1, defense_unit, loss1 - 1, loss2 - 1)\n",
    "        else:\n",
    "            c = win_rate[2, 1, 0] * get_win_chance2(attack_unit, defense_unit - 2, loss1, loss2 - 2) + \\\n",
    "                win_rate[2, 1, 1] * get_win_chance2(attack_unit - 1, defense_unit - 1, loss1 - 1, loss2 - 1) + \\\n",
    "                win_rate[2, 1, 2] * get_win_chance2(attack_unit - 2, defense_unit, loss1 - 2, loss2)\n",
    "#     print(attack_unit, defense_unit, loss, c)\n",
    "    d2[(attack_unit, defense_unit, loss1, loss2)] = c\n",
    "    return c\n",
    "\n",
    "for i in range(1, 100):\n",
    "    for j in range(1, 100):\n",
    "        for r in range(0, i):\n",
    "            get_win_chance2(i, j, r)\n",
    "\n",
    "print(len(d2))\n",
    "\n",
    "\n",
    "# from mpl_toolkits import mplot3d\n",
    "\n",
    "#\n",
    "# fig = plt.figure()\n",
    "# ax = plt.axes(projection='3d')\n",
    "# X, Y, Z, C = [k[0] for k in d.keys()], [k[1] for k in d.keys()], [v for v in d.values()], [k[2] for k in d.keys()]\n",
    "# img = ax.scatter(X, Y, Z, c=C, cmap=plt.hot()) # rstride=1, cstride=1, cmap='viridis', edgecolor='none')\n",
    "# fig.colorbar(img)\n",
    "# ax.set_xlabel('Attack')\n",
    "# ax.set_ylabel('Defense')\n",
    "# # ax.set_zlabel('Loss')\n",
    "# ax.view_init(20, 70)\n",
    "#\n",
    "#\n",
    "# plt.show()\n"
   ]
  },
  {
   "cell_type": "code",
   "execution_count": 11,
   "metadata": {},
   "outputs": [],
   "source": [
    "import numpy as np\n",
    "import matplotlib.pyplot as plt\n",
    "\n",
    "def plot_me(x, y, data):\n",
    "    X = [k[2] for k, v in data.items() if k[0] == x and k[1] == y and 0 <= k[2] <= x]\n",
    "    Y = [v for k, v in data.items() if k[0] == x and k[1] == y and 0 <= k[2] <= x]\n",
    "    W = [k[3] for k, v in data.items() if k[0] == x and k[1] == y and 0 <= k[3] <= y]\n",
    "    Z = [v for k, v in data.items() if k[0] == x and k[1] == y and 0 <= k[3] <= y]\n",
    "    print(X)\n",
    "    print(Y)\n",
    "    print(W)\n",
    "    print(Z)\n",
    "    print(X[np.argmax(Y)], np.mean(Y), np.std(Y), sum(Y))\n",
    "    print(W[np.argmax(Z)], np.mean(Z), np.std(Z), sum(Z))\n",
    "    fig, ax = plt.subplots()\n",
    "    ax.plot(X, Y)\n",
    "    ax.plot(W, Z)\n",
    "    ax.grid()\n",
    "    plt.show()  \n"
   ]
  },
  {
   "cell_type": "code",
   "execution_count": 2,
   "metadata": {},
   "outputs": [
    {
     "ename": "NameError",
     "evalue": "name 'plot_me' is not defined",
     "output_type": "error",
     "traceback": [
      "\u001b[0;31m---------------------------------------------------------------------------\u001b[0m",
      "\u001b[0;31mNameError\u001b[0m                                 Traceback (most recent call last)",
      "\u001b[0;32m/tmp/ipykernel_17260/981600773.py\u001b[0m in \u001b[0;36m<module>\u001b[0;34m\u001b[0m\n\u001b[1;32m      2\u001b[0m \u001b[0;34m\u001b[0m\u001b[0m\n\u001b[1;32m      3\u001b[0m \u001b[0ma\u001b[0m\u001b[0;34m,\u001b[0m \u001b[0mb\u001b[0m \u001b[0;34m=\u001b[0m \u001b[0;36m40\u001b[0m\u001b[0;34m,\u001b[0m \u001b[0;36m10\u001b[0m\u001b[0;34m\u001b[0m\u001b[0;34m\u001b[0m\u001b[0m\n\u001b[0;32m----> 4\u001b[0;31m \u001b[0mplot_me\u001b[0m\u001b[0;34m(\u001b[0m\u001b[0ma\u001b[0m\u001b[0;34m,\u001b[0m \u001b[0mb\u001b[0m\u001b[0;34m,\u001b[0m \u001b[0md2\u001b[0m\u001b[0;34m)\u001b[0m\u001b[0;34m\u001b[0m\u001b[0;34m\u001b[0m\u001b[0m\n\u001b[0m\u001b[1;32m      5\u001b[0m \u001b[0mprint\u001b[0m\u001b[0;34m(\u001b[0m\u001b[0mget_win_chance\u001b[0m\u001b[0;34m(\u001b[0m\u001b[0ma\u001b[0m\u001b[0;34m,\u001b[0m \u001b[0mb\u001b[0m\u001b[0;34m)\u001b[0m\u001b[0;34m)\u001b[0m\u001b[0;34m\u001b[0m\u001b[0;34m\u001b[0m\u001b[0m\n\u001b[1;32m      6\u001b[0m \u001b[0;31m# x_axis = np.arange(0, a, 0.1)\u001b[0m\u001b[0;34m\u001b[0m\u001b[0;34m\u001b[0m\u001b[0;34m\u001b[0m\u001b[0m\n",
      "\u001b[0;31mNameError\u001b[0m: name 'plot_me' is not defined"
     ]
    }
   ],
   "source": [
    "from scipy.stats import norm\n",
    "\n",
    "a, b = 40, 10\n",
    "plot_me(a, b, d2)\n",
    "print(get_win_chance(a, b))\n",
    "# x_axis = np.arange(0, a, 0.1)\n",
    "\n",
    "# plt.plot(x_axis, norm.pdf(x_axis,16,6))\n"
   ]
  },
  {
   "cell_type": "code",
   "execution_count": null,
   "metadata": {},
   "outputs": [],
   "source": []
  },
  {
   "cell_type": "code",
   "execution_count": 12,
   "metadata": {},
   "outputs": [],
   "source": [
    "dd = {}\n",
    "n = 1000\n",
    "a, b = 15, 20\n",
    "for i in range(n):\n",
    "    ta = int(a)\n",
    "    td = int(b)\n",
    "    while ta > 0 and td > 0:\n",
    "        la, ld = single_roll(ta, td)\n",
    "        ta -= la\n",
    "        td -= ld\n",
    "    \n",
    "    left = ta if ta > td else -td\n",
    "    if (a, b, left) not in dd:\n",
    "        dd[(a, b, left)] = 0.0\n",
    "    dd[(a, b, left)] += 1.0/n"
   ]
  },
  {
   "cell_type": "code",
   "execution_count": 13,
   "metadata": {},
   "outputs": [
    {
     "ename": "IndexError",
     "evalue": "tuple index out of range",
     "output_type": "error",
     "traceback": [
      "\u001b[0;31m---------------------------------------------------------------------------\u001b[0m",
      "\u001b[0;31mIndexError\u001b[0m                                Traceback (most recent call last)",
      "\u001b[0;32m/tmp/ipykernel_17260/177707147.py\u001b[0m in \u001b[0;36m<module>\u001b[0;34m\u001b[0m\n\u001b[1;32m      1\u001b[0m \u001b[0md4\u001b[0m \u001b[0;34m=\u001b[0m \u001b[0;34m{\u001b[0m\u001b[0;34m(\u001b[0m\u001b[0ma\u001b[0m\u001b[0;34m,\u001b[0m \u001b[0mb\u001b[0m\u001b[0;34m,\u001b[0m \u001b[0mi\u001b[0m\u001b[0;34m-\u001b[0m\u001b[0mb\u001b[0m\u001b[0;34m)\u001b[0m\u001b[0;34m:\u001b[0m \u001b[0mdd\u001b[0m\u001b[0;34m[\u001b[0m\u001b[0;34m(\u001b[0m\u001b[0ma\u001b[0m\u001b[0;34m,\u001b[0m\u001b[0mb\u001b[0m\u001b[0;34m,\u001b[0m\u001b[0mi\u001b[0m\u001b[0;34m-\u001b[0m\u001b[0mb\u001b[0m\u001b[0;34m)\u001b[0m\u001b[0;34m]\u001b[0m \u001b[0;32mfor\u001b[0m \u001b[0mi\u001b[0m \u001b[0;32min\u001b[0m \u001b[0mrange\u001b[0m\u001b[0;34m(\u001b[0m\u001b[0mlen\u001b[0m\u001b[0;34m(\u001b[0m\u001b[0mdd\u001b[0m\u001b[0;34m)\u001b[0m\u001b[0;34m+\u001b[0m\u001b[0;36m1\u001b[0m\u001b[0;34m)\u001b[0m \u001b[0;32mif\u001b[0m \u001b[0;34m(\u001b[0m\u001b[0ma\u001b[0m\u001b[0;34m,\u001b[0m\u001b[0mb\u001b[0m\u001b[0;34m,\u001b[0m\u001b[0mi\u001b[0m\u001b[0;34m-\u001b[0m\u001b[0mb\u001b[0m\u001b[0;34m)\u001b[0m \u001b[0;32min\u001b[0m \u001b[0mdd\u001b[0m\u001b[0;34m}\u001b[0m\u001b[0;34m\u001b[0m\u001b[0;34m\u001b[0m\u001b[0m\n\u001b[0;32m----> 2\u001b[0;31m \u001b[0mplot_me\u001b[0m\u001b[0;34m(\u001b[0m\u001b[0ma\u001b[0m\u001b[0;34m,\u001b[0m \u001b[0mb\u001b[0m\u001b[0;34m,\u001b[0m \u001b[0md4\u001b[0m\u001b[0;34m)\u001b[0m\u001b[0;34m\u001b[0m\u001b[0;34m\u001b[0m\u001b[0m\n\u001b[0m\u001b[1;32m      3\u001b[0m \u001b[0md4\u001b[0m\u001b[0;34m\u001b[0m\u001b[0;34m\u001b[0m\u001b[0m\n",
      "\u001b[0;32m/tmp/ipykernel_17260/2118388527.py\u001b[0m in \u001b[0;36mplot_me\u001b[0;34m(x, y, data)\u001b[0m\n\u001b[1;32m      5\u001b[0m     \u001b[0mX\u001b[0m \u001b[0;34m=\u001b[0m \u001b[0;34m[\u001b[0m\u001b[0mk\u001b[0m\u001b[0;34m[\u001b[0m\u001b[0;36m2\u001b[0m\u001b[0;34m]\u001b[0m \u001b[0;32mfor\u001b[0m \u001b[0mk\u001b[0m\u001b[0;34m,\u001b[0m \u001b[0mv\u001b[0m \u001b[0;32min\u001b[0m \u001b[0mdata\u001b[0m\u001b[0;34m.\u001b[0m\u001b[0mitems\u001b[0m\u001b[0;34m(\u001b[0m\u001b[0;34m)\u001b[0m \u001b[0;32mif\u001b[0m \u001b[0mk\u001b[0m\u001b[0;34m[\u001b[0m\u001b[0;36m0\u001b[0m\u001b[0;34m]\u001b[0m \u001b[0;34m==\u001b[0m \u001b[0mx\u001b[0m \u001b[0;32mand\u001b[0m \u001b[0mk\u001b[0m\u001b[0;34m[\u001b[0m\u001b[0;36m1\u001b[0m\u001b[0;34m]\u001b[0m \u001b[0;34m==\u001b[0m \u001b[0my\u001b[0m \u001b[0;32mand\u001b[0m \u001b[0;36m0\u001b[0m \u001b[0;34m<=\u001b[0m \u001b[0mk\u001b[0m\u001b[0;34m[\u001b[0m\u001b[0;36m2\u001b[0m\u001b[0;34m]\u001b[0m \u001b[0;34m<=\u001b[0m \u001b[0mx\u001b[0m\u001b[0;34m]\u001b[0m\u001b[0;34m\u001b[0m\u001b[0;34m\u001b[0m\u001b[0m\n\u001b[1;32m      6\u001b[0m     \u001b[0mY\u001b[0m \u001b[0;34m=\u001b[0m \u001b[0;34m[\u001b[0m\u001b[0mv\u001b[0m \u001b[0;32mfor\u001b[0m \u001b[0mk\u001b[0m\u001b[0;34m,\u001b[0m \u001b[0mv\u001b[0m \u001b[0;32min\u001b[0m \u001b[0mdata\u001b[0m\u001b[0;34m.\u001b[0m\u001b[0mitems\u001b[0m\u001b[0;34m(\u001b[0m\u001b[0;34m)\u001b[0m \u001b[0;32mif\u001b[0m \u001b[0mk\u001b[0m\u001b[0;34m[\u001b[0m\u001b[0;36m0\u001b[0m\u001b[0;34m]\u001b[0m \u001b[0;34m==\u001b[0m \u001b[0mx\u001b[0m \u001b[0;32mand\u001b[0m \u001b[0mk\u001b[0m\u001b[0;34m[\u001b[0m\u001b[0;36m1\u001b[0m\u001b[0;34m]\u001b[0m \u001b[0;34m==\u001b[0m \u001b[0my\u001b[0m \u001b[0;32mand\u001b[0m \u001b[0;36m0\u001b[0m \u001b[0;34m<=\u001b[0m \u001b[0mk\u001b[0m\u001b[0;34m[\u001b[0m\u001b[0;36m2\u001b[0m\u001b[0;34m]\u001b[0m \u001b[0;34m<=\u001b[0m \u001b[0mx\u001b[0m\u001b[0;34m]\u001b[0m\u001b[0;34m\u001b[0m\u001b[0;34m\u001b[0m\u001b[0m\n\u001b[0;32m----> 7\u001b[0;31m     \u001b[0mW\u001b[0m \u001b[0;34m=\u001b[0m \u001b[0;34m[\u001b[0m\u001b[0mk\u001b[0m\u001b[0;34m[\u001b[0m\u001b[0;36m3\u001b[0m\u001b[0;34m]\u001b[0m \u001b[0;32mfor\u001b[0m \u001b[0mk\u001b[0m\u001b[0;34m,\u001b[0m \u001b[0mv\u001b[0m \u001b[0;32min\u001b[0m \u001b[0mdata\u001b[0m\u001b[0;34m.\u001b[0m\u001b[0mitems\u001b[0m\u001b[0;34m(\u001b[0m\u001b[0;34m)\u001b[0m \u001b[0;32mif\u001b[0m \u001b[0mk\u001b[0m\u001b[0;34m[\u001b[0m\u001b[0;36m0\u001b[0m\u001b[0;34m]\u001b[0m \u001b[0;34m==\u001b[0m \u001b[0mx\u001b[0m \u001b[0;32mand\u001b[0m \u001b[0mk\u001b[0m\u001b[0;34m[\u001b[0m\u001b[0;36m1\u001b[0m\u001b[0;34m]\u001b[0m \u001b[0;34m==\u001b[0m \u001b[0my\u001b[0m \u001b[0;32mand\u001b[0m \u001b[0;36m0\u001b[0m \u001b[0;34m<=\u001b[0m \u001b[0mk\u001b[0m\u001b[0;34m[\u001b[0m\u001b[0;36m3\u001b[0m\u001b[0;34m]\u001b[0m \u001b[0;34m<=\u001b[0m \u001b[0my\u001b[0m\u001b[0;34m]\u001b[0m\u001b[0;34m\u001b[0m\u001b[0;34m\u001b[0m\u001b[0m\n\u001b[0m\u001b[1;32m      8\u001b[0m     \u001b[0mZ\u001b[0m \u001b[0;34m=\u001b[0m \u001b[0;34m[\u001b[0m\u001b[0mv\u001b[0m \u001b[0;32mfor\u001b[0m \u001b[0mk\u001b[0m\u001b[0;34m,\u001b[0m \u001b[0mv\u001b[0m \u001b[0;32min\u001b[0m \u001b[0mdata\u001b[0m\u001b[0;34m.\u001b[0m\u001b[0mitems\u001b[0m\u001b[0;34m(\u001b[0m\u001b[0;34m)\u001b[0m \u001b[0;32mif\u001b[0m \u001b[0mk\u001b[0m\u001b[0;34m[\u001b[0m\u001b[0;36m0\u001b[0m\u001b[0;34m]\u001b[0m \u001b[0;34m==\u001b[0m \u001b[0mx\u001b[0m \u001b[0;32mand\u001b[0m \u001b[0mk\u001b[0m\u001b[0;34m[\u001b[0m\u001b[0;36m1\u001b[0m\u001b[0;34m]\u001b[0m \u001b[0;34m==\u001b[0m \u001b[0my\u001b[0m \u001b[0;32mand\u001b[0m \u001b[0;36m0\u001b[0m \u001b[0;34m<=\u001b[0m \u001b[0mk\u001b[0m\u001b[0;34m[\u001b[0m\u001b[0;36m3\u001b[0m\u001b[0;34m]\u001b[0m \u001b[0;34m<=\u001b[0m \u001b[0my\u001b[0m\u001b[0;34m]\u001b[0m\u001b[0;34m\u001b[0m\u001b[0;34m\u001b[0m\u001b[0m\n\u001b[1;32m      9\u001b[0m     \u001b[0mprint\u001b[0m\u001b[0;34m(\u001b[0m\u001b[0mX\u001b[0m\u001b[0;34m)\u001b[0m\u001b[0;34m\u001b[0m\u001b[0;34m\u001b[0m\u001b[0m\n",
      "\u001b[0;32m/tmp/ipykernel_17260/2118388527.py\u001b[0m in \u001b[0;36m<listcomp>\u001b[0;34m(.0)\u001b[0m\n\u001b[1;32m      5\u001b[0m     \u001b[0mX\u001b[0m \u001b[0;34m=\u001b[0m \u001b[0;34m[\u001b[0m\u001b[0mk\u001b[0m\u001b[0;34m[\u001b[0m\u001b[0;36m2\u001b[0m\u001b[0;34m]\u001b[0m \u001b[0;32mfor\u001b[0m \u001b[0mk\u001b[0m\u001b[0;34m,\u001b[0m \u001b[0mv\u001b[0m \u001b[0;32min\u001b[0m \u001b[0mdata\u001b[0m\u001b[0;34m.\u001b[0m\u001b[0mitems\u001b[0m\u001b[0;34m(\u001b[0m\u001b[0;34m)\u001b[0m \u001b[0;32mif\u001b[0m \u001b[0mk\u001b[0m\u001b[0;34m[\u001b[0m\u001b[0;36m0\u001b[0m\u001b[0;34m]\u001b[0m \u001b[0;34m==\u001b[0m \u001b[0mx\u001b[0m \u001b[0;32mand\u001b[0m \u001b[0mk\u001b[0m\u001b[0;34m[\u001b[0m\u001b[0;36m1\u001b[0m\u001b[0;34m]\u001b[0m \u001b[0;34m==\u001b[0m \u001b[0my\u001b[0m \u001b[0;32mand\u001b[0m \u001b[0;36m0\u001b[0m \u001b[0;34m<=\u001b[0m \u001b[0mk\u001b[0m\u001b[0;34m[\u001b[0m\u001b[0;36m2\u001b[0m\u001b[0;34m]\u001b[0m \u001b[0;34m<=\u001b[0m \u001b[0mx\u001b[0m\u001b[0;34m]\u001b[0m\u001b[0;34m\u001b[0m\u001b[0;34m\u001b[0m\u001b[0m\n\u001b[1;32m      6\u001b[0m     \u001b[0mY\u001b[0m \u001b[0;34m=\u001b[0m \u001b[0;34m[\u001b[0m\u001b[0mv\u001b[0m \u001b[0;32mfor\u001b[0m \u001b[0mk\u001b[0m\u001b[0;34m,\u001b[0m \u001b[0mv\u001b[0m \u001b[0;32min\u001b[0m \u001b[0mdata\u001b[0m\u001b[0;34m.\u001b[0m\u001b[0mitems\u001b[0m\u001b[0;34m(\u001b[0m\u001b[0;34m)\u001b[0m \u001b[0;32mif\u001b[0m \u001b[0mk\u001b[0m\u001b[0;34m[\u001b[0m\u001b[0;36m0\u001b[0m\u001b[0;34m]\u001b[0m \u001b[0;34m==\u001b[0m \u001b[0mx\u001b[0m \u001b[0;32mand\u001b[0m \u001b[0mk\u001b[0m\u001b[0;34m[\u001b[0m\u001b[0;36m1\u001b[0m\u001b[0;34m]\u001b[0m \u001b[0;34m==\u001b[0m \u001b[0my\u001b[0m \u001b[0;32mand\u001b[0m \u001b[0;36m0\u001b[0m \u001b[0;34m<=\u001b[0m \u001b[0mk\u001b[0m\u001b[0;34m[\u001b[0m\u001b[0;36m2\u001b[0m\u001b[0;34m]\u001b[0m \u001b[0;34m<=\u001b[0m \u001b[0mx\u001b[0m\u001b[0;34m]\u001b[0m\u001b[0;34m\u001b[0m\u001b[0;34m\u001b[0m\u001b[0m\n\u001b[0;32m----> 7\u001b[0;31m     \u001b[0mW\u001b[0m \u001b[0;34m=\u001b[0m \u001b[0;34m[\u001b[0m\u001b[0mk\u001b[0m\u001b[0;34m[\u001b[0m\u001b[0;36m3\u001b[0m\u001b[0;34m]\u001b[0m \u001b[0;32mfor\u001b[0m \u001b[0mk\u001b[0m\u001b[0;34m,\u001b[0m \u001b[0mv\u001b[0m \u001b[0;32min\u001b[0m \u001b[0mdata\u001b[0m\u001b[0;34m.\u001b[0m\u001b[0mitems\u001b[0m\u001b[0;34m(\u001b[0m\u001b[0;34m)\u001b[0m \u001b[0;32mif\u001b[0m \u001b[0mk\u001b[0m\u001b[0;34m[\u001b[0m\u001b[0;36m0\u001b[0m\u001b[0;34m]\u001b[0m \u001b[0;34m==\u001b[0m \u001b[0mx\u001b[0m \u001b[0;32mand\u001b[0m \u001b[0mk\u001b[0m\u001b[0;34m[\u001b[0m\u001b[0;36m1\u001b[0m\u001b[0;34m]\u001b[0m \u001b[0;34m==\u001b[0m \u001b[0my\u001b[0m \u001b[0;32mand\u001b[0m \u001b[0;36m0\u001b[0m \u001b[0;34m<=\u001b[0m \u001b[0mk\u001b[0m\u001b[0;34m[\u001b[0m\u001b[0;36m3\u001b[0m\u001b[0;34m]\u001b[0m \u001b[0;34m<=\u001b[0m \u001b[0my\u001b[0m\u001b[0;34m]\u001b[0m\u001b[0;34m\u001b[0m\u001b[0;34m\u001b[0m\u001b[0m\n\u001b[0m\u001b[1;32m      8\u001b[0m     \u001b[0mZ\u001b[0m \u001b[0;34m=\u001b[0m \u001b[0;34m[\u001b[0m\u001b[0mv\u001b[0m \u001b[0;32mfor\u001b[0m \u001b[0mk\u001b[0m\u001b[0;34m,\u001b[0m \u001b[0mv\u001b[0m \u001b[0;32min\u001b[0m \u001b[0mdata\u001b[0m\u001b[0;34m.\u001b[0m\u001b[0mitems\u001b[0m\u001b[0;34m(\u001b[0m\u001b[0;34m)\u001b[0m \u001b[0;32mif\u001b[0m \u001b[0mk\u001b[0m\u001b[0;34m[\u001b[0m\u001b[0;36m0\u001b[0m\u001b[0;34m]\u001b[0m \u001b[0;34m==\u001b[0m \u001b[0mx\u001b[0m \u001b[0;32mand\u001b[0m \u001b[0mk\u001b[0m\u001b[0;34m[\u001b[0m\u001b[0;36m1\u001b[0m\u001b[0;34m]\u001b[0m \u001b[0;34m==\u001b[0m \u001b[0my\u001b[0m \u001b[0;32mand\u001b[0m \u001b[0;36m0\u001b[0m \u001b[0;34m<=\u001b[0m \u001b[0mk\u001b[0m\u001b[0;34m[\u001b[0m\u001b[0;36m3\u001b[0m\u001b[0;34m]\u001b[0m \u001b[0;34m<=\u001b[0m \u001b[0my\u001b[0m\u001b[0;34m]\u001b[0m\u001b[0;34m\u001b[0m\u001b[0;34m\u001b[0m\u001b[0m\n\u001b[1;32m      9\u001b[0m     \u001b[0mprint\u001b[0m\u001b[0;34m(\u001b[0m\u001b[0mX\u001b[0m\u001b[0;34m)\u001b[0m\u001b[0;34m\u001b[0m\u001b[0;34m\u001b[0m\u001b[0m\n",
      "\u001b[0;31mIndexError\u001b[0m: tuple index out of range"
     ]
    }
   ],
   "source": [
    "d4 = {(a, b, i-b): dd[(a,b,i-b)] for i in range(len(dd)+1) if (a,b,i-b) in dd}\n",
    "plot_me(a, b, d4)\n",
    "d4"
   ]
  },
  {
   "cell_type": "code",
   "execution_count": 14,
   "metadata": {},
   "outputs": [],
   "source": [
    "d3 = {}\n",
    "def get_chance(attack_unit, defense_unit, left):\n",
    "    global win_rate, d3\n",
    "    i_a = min(attack_unit - 1, 2)\n",
    "    i_d = min(defense_unit - 1, 1)\n",
    "    #print(attack_unit, defense_unit, left)\n",
    "    if (attack_unit, defense_unit, left) in d3:\n",
    "        c = d3[(attack_unit, defense_unit, left)]\n",
    "        #print(attack_unit, defense_unit, left, c)\n",
    "        return c\n",
    "\n",
    "    c = 0.0\n",
    "    if left < -defense_unit or left > attack_unit:\n",
    "        c = 0.0\n",
    "    elif defense_unit < 0 or attack_unit < 0:\n",
    "        c = 0.0\n",
    "    elif attack_unit == 0:\n",
    "        if left == -defense_unit:\n",
    "            c = 1.0\n",
    "        else:\n",
    "            c = 0.0\n",
    "    elif defense_unit == 0:\n",
    "        if left == attack_unit:\n",
    "            c = 1.0\n",
    "        else:\n",
    "            c = 0.0\n",
    "    else:        \n",
    "        c = win_rate[i_a, i_d, 0] * get_chance(attack_unit, defense_unit - min(min(i_a, i_d) + 1, 2), left) + \\\n",
    "            win_rate[i_a, i_d, 1] * get_chance(attack_unit - 1, defense_unit - min(i_a, 1), left) + \\\n",
    "            win_rate[i_a, i_d, 2] * get_chance(attack_unit - 2, defense_unit, left)\n",
    "    #print(attack_unit, defense_unit, left, c)\n",
    "    d3[(attack_unit, defense_unit, left)] = c\n",
    "    return c"
   ]
  },
  {
   "cell_type": "code",
   "execution_count": 15,
   "metadata": {},
   "outputs": [
    {
     "data": {
      "text/plain": [
       "0.040446578336175"
      ]
     },
     "execution_count": 15,
     "metadata": {},
     "output_type": "execute_result"
    }
   ],
   "source": [
    "get_chance(5, 3, -1)"
   ]
  },
  {
   "cell_type": "code",
   "execution_count": 16,
   "metadata": {},
   "outputs": [
    {
     "name": "stdout",
     "output_type": "stream",
     "text": [
      "1043851\n"
     ]
    }
   ],
   "source": [
    "for i in range(1, 100):\n",
    "    for j in range(1, 100):\n",
    "        for r in range(-j, i):\n",
    "            get_chance(i, j, r)\n",
    "\n",
    "print(len(d3))"
   ]
  },
  {
   "cell_type": "code",
   "execution_count": 17,
   "metadata": {},
   "outputs": [],
   "source": [
    "def plot_me(x, y, data):\n",
    "    X = [k[2] for k, v in data.items() if k[0] == x and k[1] == y and -y <= k[2] <= x]\n",
    "    Y = [v for k, v in data.items() if k[0] == x and k[1] == y and -y <= k[2] <= x]\n",
    "    win = sum([v for k, v in data.items() if k[0] == x and k[1] == y and 0 <= k[2] <= x])\n",
    "    print(X[np.argmax(Y)], np.max(Y), sum(Y), win)\n",
    "    fig, ax = plt.subplots()\n",
    "    ax.plot(X, Y)\n",
    "    ax.grid()\n",
    "    plt.show()\n"
   ]
  },
  {
   "cell_type": "code",
   "execution_count": 18,
   "metadata": {},
   "outputs": [
    {
     "name": "stdout",
     "output_type": "stream",
     "text": [
      "-4 0.448 1.0 0.09157402170000001\n"
     ]
    },
    {
     "data": {
      "image/png": "[encoded data removed]",
      "text/plain": [
       "<Figure size 432x288 with 1 Axes>"
      ]
     },
     "metadata": {
      "needs_background": "light"
     },
     "output_type": "display_data"
    }
   ],
   "source": [
    "plot_me(2, 4, d3)"
   ]
  },
  {
   "cell_type": "code",
   "execution_count": 19,
   "metadata": {},
   "outputs": [
    {
     "name": "stdout",
     "output_type": "stream",
     "text": [
      "-6 0.1659419095 1.0 0.12873976072661206\n"
     ]
    },
    {
     "data": {
      "image/png": "[encoded data removed]",
      "text/plain": [
       "<Figure size 432x288 with 1 Axes>"
      ]
     },
     "metadata": {
      "needs_background": "light"
     },
     "output_type": "display_data"
    }
   ],
   "source": [
    "plot_me(4, 8, d3)"
   ]
  },
  {
   "cell_type": "code",
   "execution_count": 20,
   "metadata": {},
   "outputs": [
    {
     "name": "stdout",
     "output_type": "stream",
     "text": [
      "-10 0.09426682072253935 1.0 0.0922928138836063\n"
     ]
    },
    {
     "data": {
      "image/png": "[encoded data removed]",
      "text/plain": [
       "<Figure size 432x288 with 1 Axes>"
      ]
     },
     "metadata": {
      "needs_background": "light"
     },
     "output_type": "display_data"
    }
   ],
   "source": [
    "plot_me(8, 16, d3)"
   ]
  },
  {
   "cell_type": "code",
   "execution_count": 24,
   "metadata": {},
   "outputs": [
    {
     "name": "stdout",
     "output_type": "stream",
     "text": [
      "-5 0.448 1.0 0.0620794555335\n"
     ]
    },
    {
     "data": {
      "image/png": "[encoded data removed]",
      "text/plain": [
       "<Figure size 432x288 with 1 Axes>"
      ]
     },
     "metadata": {
      "needs_background": "light"
     },
     "output_type": "display_data"
    }
   ],
   "source": [
    "plot_me(2, 5, d3)"
   ]
  },
  {
   "cell_type": "code",
   "execution_count": 25,
   "metadata": {},
   "outputs": [
    {
     "data": {
      "text/plain": [
       "0.448"
      ]
     },
     "execution_count": 25,
     "metadata": {},
     "output_type": "execute_result"
    }
   ],
   "source": [
    "get_chance(2,5,-5)"
   ]
  }
 ],
 "metadata": {
  "kernelspec": {
   "display_name": "Python 3 (ipykernel)",
   "language": "python",
   "name": "python3"
  },
  "language_info": {
   "codemirror_mode": {
    "name": "ipython",
    "version": 3
   },
   "file_extension": ".py",
   "mimetype": "text/x-python",
   "name": "python",
   "nbconvert_exporter": "python",
   "pygments_lexer": "ipython3",
   "version": "3.8.11"
  }
 },
 "nbformat": 4,
 "nbformat_minor": 1
}
