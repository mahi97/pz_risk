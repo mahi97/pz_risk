{
 "cells": [],
 "metadata": {
  "kernelspec": {
   "display_name": "Python 3",
   "language": "python",
   "name": "python3"
  },
  "language_info": {
   "codemirror_mode": {
    "name": "ipython",
    "version": 2
   },
   "file_extension": ".py",
   "mimetype": "text/x-python",
   "name": "python",
   "nbconvert_exporter": "python",
   "pygments_lexer": "ipython2",
   "version": "2.7.6"
  },
  "pycharm": {
   "stem_cell": {
    "cell_type": "raw",
    "source": [
     "dsfg\n",
     "\n",
     "%%\n",
     "\n",
     "import math\n",
     "\n",
     "def _get_win_chance(attack_unit, defense_unit, loss):\n",
     "    if attack_unit == 1 and defense_unit == 1:\n",
     "        return (math.comb(6, 2)) / 6 ** 2\n",
     "    elif attack_unit == 1 and defense_unit == 2:\n",
     "        return (math.comb(6, 2)) / 6 ** 3\n",
     "    elif attack_unit == 2 and defense_unit == 1:\n",
     "        return ((6 ** 3 - math.comb(6 + 1, 2)) / 6 ** 3) + \\\n",
     "               _get_win_chance(attack_unit - 1, defense_unit, )\n",
     "    elif attack_unit == 2 and defense_unit == 2:\n",
     "        return ((6 ** 4 - math.comb((6 ** 2) + 1, 2)) / 6 ** 4) + \\\n",
     "               _get_win_chance(attack_unit - 1, defense_unit - 1)\n",
     "    elif attack_unit == 3 and defense_unit == 1:\n",
     "        return ((6 ** 4 - math.comb(6 + 1, 2)) / 6 ** 4) + \\\n",
     "               _get_win_chance(attack_unit - 1, defense_unit)\n",
     "    elif attack_unit == 3 and defense_unit == 2:\n",
     "        if loss == -1:\n",
     "            return ((6 ** 5 - math.comb((6 ** 2) + 1, 2)) / 6 ** 5) + \\\n",
     "                   _get_win_chance(attack_unit - 1, defense_unit - 1, -1) + \\\n",
     "                   _get_win_chance(attack_unit - 2, defense_unit, -1)\n",
     "        elif loss == 0:\n",
     "            return (6 ** 5 - math.comb((6 ** 2) + 1, 2)) / 6 ** 5\n",
     "        else:\n",
     "            return _get_win_chance(attack_unit - loss, defense_unit - 2 + loss, -1)\n",
     "    else:\n",
     "        return _get_win_chance(3, 2, 0) * _get_win_chance(attack_unit, defense_unit - 2, -1) + \\\n",
     "               _get_win_chance(3, 2, 1) * _get_win_chance(attack_unit - 1, defense_unit - 1, -1) + \\\n",
     "               _get_win_chance(3, 2, 2) * _get_win_chance(attack_unit - 2, defense_unit, -1)\n",
     "\n",
     "\n",
     "def get_win_chance(attack_unit, defense_unit):\n",
     "    return _get_win_chance(attack_unit, defense_unit - 2) + \\\n",
     "           _get_win_chance(attack_unit - 2, defense_unit) + \\\n",
     "           _get_win_chance(attack_unit - 1, defense_unit - 1)\n",
     "\n",
     "%%\n",
     "for i in range(10):\n",
     "    for j in range(10):\n",
     "        print(get_win_chance(i, j))\n"
    ],
    "metadata": {
     "collapsed": false
    }
   }
  }
 },
 "nbformat": 4,
 "nbformat_minor": 0
}